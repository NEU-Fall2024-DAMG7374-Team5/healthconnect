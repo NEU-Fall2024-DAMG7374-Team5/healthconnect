{
 "cells": [
  {
   "cell_type": "code",
   "execution_count": 2,
   "metadata": {},
   "outputs": [
    {
     "name": "stdout",
     "output_type": "stream",
     "text": [
      "751E1F62-93C3-8048-7F77-48415A978963\n"
     ]
    }
   ],
   "source": [
    "PATIENTID = '751E1F62-93C3-8048-7F77-48415A978963'\n",
    "PATIENTID = PATIENTID.upper()\n",
    "print(PATIENTID)"
   ]
  },
  {
   "cell_type": "code",
   "execution_count": 3,
   "metadata": {},
   "outputs": [],
   "source": [
    "neo4j_url = \"bolt://localhost:7687\" \n",
    "neo4j_user = \"neo4j\" \n",
    "neo4j_password = \"Apurv1234567890\"\n",
    "neo4j_db = \"poc\"\n",
    "SOURCE_DATASET_LOCATION = \"/Users/amk/#Datasets/synthea/csv/synthea50\""
   ]
  },
  {
   "cell_type": "code",
   "execution_count": 4,
   "metadata": {},
   "outputs": [
    {
     "name": "stderr",
     "output_type": "stream",
     "text": [
      "Warning: Ignoring non-Spark config property: neo4j.url\n",
      "Warning: Ignoring non-Spark config property: neo4j.database\n",
      "Warning: Ignoring non-Spark config property: neo4j.authentication.basic.password\n",
      "Warning: Ignoring non-Spark config property: neo4j.authentication.type\n",
      "Warning: Ignoring non-Spark config property: neo4j.authentication.basic.username\n",
      "24/12/05 01:20:18 WARN Utils: Your hostname, Adityas-MacBook-Pro.local resolves to a loopback address: 127.0.0.1; using 10.0.0.82 instead (on interface en0)\n",
      "24/12/05 01:20:18 WARN Utils: Set SPARK_LOCAL_IP if you need to bind to another address\n",
      "24/12/05 01:20:18 WARN NativeCodeLoader: Unable to load native-hadoop library for your platform... using builtin-java classes where applicable\n",
      "Setting default log level to \"WARN\".\n",
      "To adjust logging level use sc.setLogLevel(newLevel). For SparkR, use setLogLevel(newLevel).\n"
     ]
    }
   ],
   "source": [
    "from pyspark.sql import SparkSession\n",
    "spark = (SparkSession.builder\n",
    "        .master('spark://Adityas-MacBook-Pro.local:7077')\n",
    "        .appName('HealthConnect Test')\n",
    "        .config('spark.ui.port', '4051')\n",
    "        .config('spark.sql.repl.eagerEval.enabled', True)\n",
    "        .config('spark.jars', '/Users/amk/Github/healthconnect/damg7374/code/utilities/neo4j-spark-connector.jar')\n",
    "        .config(\"neo4j.url\", neo4j_url)\n",
    "        .config(\"neo4j.authentication.type\", \"basic\")\n",
    "        .config(\"neo4j.authentication.basic.username\", neo4j_user)\n",
    "        .config(\"neo4j.authentication.basic.password\", neo4j_password)\n",
    "        .config(\"neo4j.authentication.basic.password\", neo4j_password)\n",
    "        .config(\"neo4j.database\", neo4j_db)\n",
    "        .config('spark.executor.instances', 1)\n",
    "        .config('spark.executor.cores', 1) \n",
    "        .config('spark.executor.memory', '1G') \n",
    "        .config('spark.cores.max', 1) \n",
    "        .getOrCreate())\n"
   ]
  },
  {
   "cell_type": "code",
   "execution_count": 5,
   "metadata": {},
   "outputs": [
    {
     "name": "stdout",
     "output_type": "stream",
     "text": [
      "================\n",
      "patients.csv\n",
      "================\n"
     ]
    },
    {
     "name": "stderr",
     "output_type": "stream",
     "text": [
      "24/12/05 01:20:29 WARN SparkStringUtils: Truncated the string representation of a plan since it was too large. This behavior can be adjusted by setting 'spark.sql.debug.maxToStringFields'.\n"
     ]
    },
    {
     "name": "stdout",
     "output_type": "stream",
     "text": [
      "+------------------------------------+----------+---------+-----------+---------+----------+------+-------+----------+----+------+-------+-------+-----+-----------+------+--------------------------+----------------------------+--------+-------------+--------------+-----+----+-----------------+------------------+-------------------+-------------------+------+\n",
      "|Id                                  |BIRTHDATE |DEATHDATE|SSN        |DRIVERS  |PASSPORT  |PREFIX|FIRST  |MIDDLE    |LAST|SUFFIX|MAIDEN |MARITAL|RACE |ETHNICITY  |GENDER|BIRTHPLACE                |ADDRESS                     |CITY    |STATE        |COUNTY        |FIPS |ZIP |LAT              |LON               |HEALTHCARE_EXPENSES|HEALTHCARE_COVERAGE|INCOME|\n",
      "+------------------------------------+----------+---------+-----------+---------+----------+------+-------+----------+----+------+-------+-------+-----+-----------+------+--------------------------+----------------------------+--------+-------------+--------------+-----+----+-----------------+------------------+-------------------+-------------------+------+\n",
      "|751e1f62-93c3-8048-7f77-48415a978963|1975-02-04|NULL     |999-96-4878|S99951497|X34010099X|Mrs.  |Michell|Bernadette|Lind|NULL  |Quigley|M      |other|nonhispanic|F     |Mashpee  Massachusetts  US|717 Rutherford Mill Suite 25|Randolph|Massachusetts|Norfolk County|25021|2368|42.21823146845072|-71.06933654134419|13222.79           |1331707.83         |3731  |\n",
      "+------------------------------------+----------+---------+-----------+---------+----------+------+-------+----------+----+------+-------+-------+-----+-----------+------+--------------------------+----------------------------+--------+-------------+--------------+-----+----+-----------------+------------------+-------------------+-------------------+------+\n",
      "\n",
      "Record count : 1\n"
     ]
    }
   ],
   "source": [
    "print(\"================\")\n",
    "print(\"patients.csv\")\n",
    "print(\"================\")\n",
    "SOURCE_DATASET_FILENAME = \"patients.csv\"\n",
    "df = (spark.read.csv(f\"{SOURCE_DATASET_LOCATION}/{SOURCE_DATASET_FILENAME}\", header=True, inferSchema=True))\n",
    "a = df.filter(f'upper(Id) = \"{PATIENTID}\"')\n",
    "a.show(a.count(), truncate=False)\n",
    "print(f\"Record count : {a.count()}\")\n"
   ]
  },
  {
   "cell_type": "code",
   "execution_count": 6,
   "metadata": {},
   "outputs": [
    {
     "name": "stdout",
     "output_type": "stream",
     "text": [
      "================\n",
      "encounters.csv\n",
      "================\n",
      "+------------------------------------+-------------------+-------------------+------------------------------------+------------------------------------+------------------------------------+------------------------------------+--------------+---------+----------------------------------------------------------------+-------------------+----------------+--------------+----------+-----------------------------------+\n",
      "|Id                                  |START              |STOP               |PATIENT                             |ORGANIZATION                        |PROVIDER                            |PAYER                               |ENCOUNTERCLASS|CODE     |DESCRIPTION                                                     |BASE_ENCOUNTER_COST|TOTAL_CLAIM_COST|PAYER_COVERAGE|REASONCODE|REASONDESCRIPTION                  |\n",
      "+------------------------------------+-------------------+-------------------+------------------------------------+------------------------------------+------------------------------------+------------------------------------+--------------+---------+----------------------------------------------------------------+-------------------+----------------+--------------+----------+-----------------------------------+\n",
      "|01a418a2-dda6-9644-9574-2c978df7c78c|2024-04-16 15:42:22|2024-04-16 16:35:40|751e1f62-93c3-8048-7f77-48415a978963|f2068cee-c75c-321d-9b2c-c33535db89c9|56da1c7e-8611-3744-9fb6-4e9f43aee2f6|d18ef2e6-ef40-324c-be54-34a5ee865625|wellness      |162673000|General examination of patient (procedure)                      |136.8              |1303.81         |1303.81       |NULL      |NULL                               |\n",
      "|04cdeb08-6760-192a-1754-7945bd35a669|2019-03-26 15:42:22|2019-03-26 16:46:19|751e1f62-93c3-8048-7f77-48415a978963|f8918a95-31e8-3ac4-8d12-29ca6080ebda|a471fd87-c6ad-3f04-a398-b8008bbe17e0|d18ef2e6-ef40-324c-be54-34a5ee865625|ambulatory    |185347001|Encounter for problem                                           |85.55              |1366.18         |1331.18       |271737000 |Anemia (disorder)                  |\n",
      "|0ff0e79c-a884-1236-cfd1-659fe58f47b9|2021-03-30 15:42:22|2021-03-30 16:38:31|751e1f62-93c3-8048-7f77-48415a978963|f2068cee-c75c-321d-9b2c-c33535db89c9|56da1c7e-8611-3744-9fb6-4e9f43aee2f6|d18ef2e6-ef40-324c-be54-34a5ee865625|wellness      |162673000|General examination of patient (procedure)                      |136.8              |778.78          |778.78        |NULL      |NULL                               |\n",
      "|1e82529f-1c65-86a9-b509-9568944d7ab1|2017-03-07 14:42:22|2017-03-07 15:15:59|751e1f62-93c3-8048-7f77-48415a978963|f2068cee-c75c-321d-9b2c-c33535db89c9|56da1c7e-8611-3744-9fb6-4e9f43aee2f6|d18ef2e6-ef40-324c-be54-34a5ee865625|wellness      |162673000|General examination of patient (procedure)                      |136.8              |704.2           |704.2         |NULL      |NULL                               |\n",
      "|24166820-b03b-33c5-6dc1-3836269d1baa|2016-03-01 14:42:22|2016-03-01 15:23:41|751e1f62-93c3-8048-7f77-48415a978963|f2068cee-c75c-321d-9b2c-c33535db89c9|56da1c7e-8611-3744-9fb6-4e9f43aee2f6|d18ef2e6-ef40-324c-be54-34a5ee865625|wellness      |162673000|General examination of patient (procedure)                      |136.8              |1050.78         |1050.78       |NULL      |NULL                               |\n",
      "|2e81604f-99ea-f11c-59e1-da317a4d57c8|2019-06-17 15:42:22|2019-06-17 15:57:22|751e1f62-93c3-8048-7f77-48415a978963|f8918a95-31e8-3ac4-8d12-29ca6080ebda|a471fd87-c6ad-3f04-a398-b8008bbe17e0|d18ef2e6-ef40-324c-be54-34a5ee865625|ambulatory    |390906007|Follow-up encounter (procedure)                                 |85.55              |85.55           |50.55         |59621000  |Essential hypertension (disorder)  |\n",
      "|3920a8f5-a4e3-5d33-e67c-e4f334691876|2017-11-26 20:48:36|2017-11-26 21:31:22|751e1f62-93c3-8048-7f77-48415a978963|f8918a95-31e8-3ac4-8d12-29ca6080ebda|a471fd87-c6ad-3f04-a398-b8008bbe17e0|d18ef2e6-ef40-324c-be54-34a5ee865625|outpatient    |308335008|Patient encounter procedure                                     |142.58             |10452.88        |10417.88      |389095005 |Contraception care (regime/therapy)|\n",
      "|3d54a787-b0f6-8cb2-4337-8454d067008b|2014-02-18 14:42:22|2014-02-18 15:31:02|751e1f62-93c3-8048-7f77-48415a978963|f2068cee-c75c-321d-9b2c-c33535db89c9|56da1c7e-8611-3744-9fb6-4e9f43aee2f6|df166300-5a78-3502-a46a-832842197811|wellness      |162673000|General examination of patient (procedure)                      |136.8              |1285.67         |1285.67       |NULL      |NULL                               |\n",
      "|4221590b-2769-e062-054a-5641948b5610|2019-04-18 15:42:22|2019-04-18 15:57:22|751e1f62-93c3-8048-7f77-48415a978963|f8918a95-31e8-3ac4-8d12-29ca6080ebda|a471fd87-c6ad-3f04-a398-b8008bbe17e0|d18ef2e6-ef40-324c-be54-34a5ee865625|ambulatory    |390906007|Follow-up encounter (procedure)                                 |85.55              |85.55           |50.55         |59621000  |Essential hypertension (disorder)  |\n",
      "|4dd3725b-23f6-efa9-52d8-3a5d661944b1|2021-04-27 15:42:22|2021-04-27 15:57:22|751e1f62-93c3-8048-7f77-48415a978963|f8918a95-31e8-3ac4-8d12-29ca6080ebda|a471fd87-c6ad-3f04-a398-b8008bbe17e0|d18ef2e6-ef40-324c-be54-34a5ee865625|outpatient    |33879002 |Administration of vaccine to produce active immunity (procedure)|142.58             |278.58          |243.58        |NULL      |NULL                               |\n",
      "|4fcf7bb9-a3fd-79c7-6979-5d5dd36161bc|1993-03-30 14:42:22|1993-03-30 15:27:10|751e1f62-93c3-8048-7f77-48415a978963|f2068cee-c75c-321d-9b2c-c33535db89c9|56da1c7e-8611-3744-9fb6-4e9f43aee2f6|df166300-5a78-3502-a46a-832842197811|wellness      |162673000|General examination of patient (procedure)                      |136.8              |704.2           |554.2         |NULL      |NULL                               |\n",
      "|530e9d19-3780-dd6e-a970-1add981350fd|2016-11-28 21:10:34|2016-11-28 21:48:36|751e1f62-93c3-8048-7f77-48415a978963|f8918a95-31e8-3ac4-8d12-29ca6080ebda|a471fd87-c6ad-3f04-a398-b8008bbe17e0|d18ef2e6-ef40-324c-be54-34a5ee865625|outpatient    |698314001|Consultation for treatment                                      |142.58             |5893.15         |5858.15       |389095005 |Contraception care (regime/therapy)|\n",
      "|6c3047b0-7a63-d078-e84f-bff6acc75fde|2014-02-06 14:42:22|2014-02-06 14:57:22|751e1f62-93c3-8048-7f77-48415a978963|f8918a95-31e8-3ac4-8d12-29ca6080ebda|a471fd87-c6ad-3f04-a398-b8008bbe17e0|df166300-5a78-3502-a46a-832842197811|outpatient    |185347001|Encounter for problem (procedure)                               |85.55              |85.55           |0.0           |82423001  |Chronic pain (finding)             |\n",
      "|6f90953d-c655-b98e-ac57-0d39074d93cf|2014-04-06 07:42:22|2014-04-06 07:57:22|751e1f62-93c3-8048-7f77-48415a978963|f8918a95-31e8-3ac4-8d12-29ca6080ebda|a471fd87-c6ad-3f04-a398-b8008bbe17e0|df166300-5a78-3502-a46a-832842197811|ambulatory    |390906007|Follow-up encounter (procedure)                                 |85.55              |85.55           |35.55         |82423001  |Chronic pain (finding)             |\n",
      "|706c9d39-7a47-6c7f-f1e7-8a4fa2e3706e|2021-04-06 15:42:22|2021-04-06 15:57:22|751e1f62-93c3-8048-7f77-48415a978963|f8918a95-31e8-3ac4-8d12-29ca6080ebda|a471fd87-c6ad-3f04-a398-b8008bbe17e0|d18ef2e6-ef40-324c-be54-34a5ee865625|outpatient    |33879002 |Administration of vaccine to produce active immunity (procedure)|142.58             |278.58          |243.58        |NULL      |NULL                               |\n",
      "|7085ffde-1d6a-bd69-68a4-e5b7c480b6da|2023-04-11 15:42:22|2023-04-11 16:26:46|751e1f62-93c3-8048-7f77-48415a978963|f2068cee-c75c-321d-9b2c-c33535db89c9|56da1c7e-8611-3744-9fb6-4e9f43aee2f6|d18ef2e6-ef40-324c-be54-34a5ee865625|wellness      |162673000|General examination of patient (procedure)                      |136.8              |785.58          |785.58        |NULL      |NULL                               |\n",
      "|72c81aaf-f04e-efef-6e93-b58a795b00b9|1997-04-08 15:42:22|1997-04-08 16:22:39|751e1f62-93c3-8048-7f77-48415a978963|f2068cee-c75c-321d-9b2c-c33535db89c9|56da1c7e-8611-3744-9fb6-4e9f43aee2f6|df166300-5a78-3502-a46a-832842197811|wellness      |162673000|General examination of patient (procedure)                      |136.8              |1050.78         |1000.78       |NULL      |NULL                               |\n",
      "|811fcd57-a189-b8c1-77e4-0dd6e8089350|2017-11-23 21:48:36|2017-11-23 22:03:36|751e1f62-93c3-8048-7f77-48415a978963|f8918a95-31e8-3ac4-8d12-29ca6080ebda|a471fd87-c6ad-3f04-a398-b8008bbe17e0|d18ef2e6-ef40-324c-be54-34a5ee865625|outpatient    |698314001|Consultation for treatment                                      |142.58             |142.58          |107.58        |389095005 |Contraception care (regime/therapy)|\n",
      "|8c71f9d8-387a-9c64-1ffc-8285c8a0591e|2022-04-05 15:42:22|2022-04-05 16:23:58|751e1f62-93c3-8048-7f77-48415a978963|f2068cee-c75c-321d-9b2c-c33535db89c9|56da1c7e-8611-3744-9fb6-4e9f43aee2f6|d18ef2e6-ef40-324c-be54-34a5ee865625|wellness      |162673000|General examination of patient (procedure)                      |136.8              |860.16          |860.16        |NULL      |NULL                               |\n",
      "|96e796a0-cd80-db19-c415-90c4114e8d5c|2020-03-24 15:42:22|2020-03-24 16:32:07|751e1f62-93c3-8048-7f77-48415a978963|f2068cee-c75c-321d-9b2c-c33535db89c9|56da1c7e-8611-3744-9fb6-4e9f43aee2f6|d18ef2e6-ef40-324c-be54-34a5ee865625|wellness      |162673000|General examination of patient (procedure)                      |136.8              |1383.23         |1383.23       |NULL      |NULL                               |\n",
      "|974dade7-667c-0c79-33a0-2bbf46bf8fe7|2019-08-16 15:42:22|2019-08-16 15:57:22|751e1f62-93c3-8048-7f77-48415a978963|f8918a95-31e8-3ac4-8d12-29ca6080ebda|a471fd87-c6ad-3f04-a398-b8008bbe17e0|d18ef2e6-ef40-324c-be54-34a5ee865625|ambulatory    |390906007|Follow-up encounter (procedure)                                 |85.55              |85.55           |50.55         |59621000  |Essential hypertension (disorder)  |\n",
      "|a2cea2d7-cb31-067c-0650-d2fbe00f159b|2015-12-04 21:10:34|2015-12-04 21:25:34|751e1f62-93c3-8048-7f77-48415a978963|f8918a95-31e8-3ac4-8d12-29ca6080ebda|a471fd87-c6ad-3f04-a398-b8008bbe17e0|df166300-5a78-3502-a46a-832842197811|outpatient    |698314001|Consultation for treatment                                      |142.58             |142.58          |92.58         |389095005 |Contraception care (regime/therapy)|\n",
      "|a5222fa5-d41a-ea20-e070-c33eda2e6b19|2015-02-24 14:42:22|2015-02-24 15:37:46|751e1f62-93c3-8048-7f77-48415a978963|f2068cee-c75c-321d-9b2c-c33535db89c9|56da1c7e-8611-3744-9fb6-4e9f43aee2f6|df166300-5a78-3502-a46a-832842197811|wellness      |162673000|General examination of patient (procedure)                      |136.8              |1498.32         |1478.26       |NULL      |NULL                               |\n",
      "|b41d26fd-733e-7773-0115-a9e5c0451fbc|2019-03-19 15:42:22|2019-03-19 16:12:31|751e1f62-93c3-8048-7f77-48415a978963|f2068cee-c75c-321d-9b2c-c33535db89c9|56da1c7e-8611-3744-9fb6-4e9f43aee2f6|d18ef2e6-ef40-324c-be54-34a5ee865625|wellness      |162673000|General examination of patient (procedure)                      |136.8              |923.8           |923.8         |NULL      |NULL                               |\n",
      "|b964b40c-c72f-e08e-3984-91f0f08788dc|2017-01-17 14:42:22|2017-01-17 15:51:29|751e1f62-93c3-8048-7f77-48415a978963|f8918a95-31e8-3ac4-8d12-29ca6080ebda|a471fd87-c6ad-3f04-a398-b8008bbe17e0|d18ef2e6-ef40-324c-be54-34a5ee865625|outpatient    |308335008|Patient encounter procedure                                     |142.58             |20006.96        |19971.96      |389095005 |Contraception care (regime/therapy)|\n",
      "|bb778e31-c728-612e-2089-e9f43d016a81|2021-01-19 14:42:22|2021-01-19 15:49:59|751e1f62-93c3-8048-7f77-48415a978963|f8918a95-31e8-3ac4-8d12-29ca6080ebda|a471fd87-c6ad-3f04-a398-b8008bbe17e0|d18ef2e6-ef40-324c-be54-34a5ee865625|outpatient    |308335008|Patient encounter procedure                                     |142.58             |13530.58        |13495.58      |389095005 |Contraception care (regime/therapy)|\n",
      "|c134a5ec-1053-6a98-818e-bb7686971b55|2019-11-16 21:31:22|2019-11-16 21:46:22|751e1f62-93c3-8048-7f77-48415a978963|f8918a95-31e8-3ac4-8d12-29ca6080ebda|a471fd87-c6ad-3f04-a398-b8008bbe17e0|d18ef2e6-ef40-324c-be54-34a5ee865625|outpatient    |698314001|Consultation for treatment                                      |142.58             |142.58          |107.58        |389095005 |Contraception care (regime/therapy)|\n",
      "|c6453eaf-c6a1-f656-d1ca-be5a576632a8|2015-02-25 15:42:22|2015-02-25 15:57:22|751e1f62-93c3-8048-7f77-48415a978963|f8918a95-31e8-3ac4-8d12-29ca6080ebda|a471fd87-c6ad-3f04-a398-b8008bbe17e0|df166300-5a78-3502-a46a-832842197811|ambulatory    |185345009|Encounter for symptom                                           |85.55              |85.55           |35.55         |444814009 |Viral sinusitis (disorder)         |\n",
      "|ca0e5475-3171-a98b-37d7-f08cbb592750|2012-04-24 15:42:22|2012-04-24 16:19:06|751e1f62-93c3-8048-7f77-48415a978963|f2068cee-c75c-321d-9b2c-c33535db89c9|56da1c7e-8611-3744-9fb6-4e9f43aee2f6|df166300-5a78-3502-a46a-832842197811|wellness      |162673000|General examination of patient (procedure)                      |136.8              |778.78          |678.78        |NULL      |NULL                               |\n",
      "|da7c8909-54e2-4c24-52a0-efff45bedb8c|2018-03-13 15:42:22|2018-03-13 16:29:19|751e1f62-93c3-8048-7f77-48415a978963|f2068cee-c75c-321d-9b2c-c33535db89c9|56da1c7e-8611-3744-9fb6-4e9f43aee2f6|d18ef2e6-ef40-324c-be54-34a5ee865625|wellness      |162673000|General examination of patient (procedure)                      |136.8              |1217.01         |1217.01       |NULL      |NULL                               |\n",
      "|db644403-a1dc-e5e5-2b99-0ca7a8ad17e0|2020-11-10 21:31:22|2020-11-10 21:46:22|751e1f62-93c3-8048-7f77-48415a978963|f8918a95-31e8-3ac4-8d12-29ca6080ebda|a471fd87-c6ad-3f04-a398-b8008bbe17e0|d18ef2e6-ef40-324c-be54-34a5ee865625|outpatient    |698314001|Consultation for treatment                                      |142.58             |142.58          |107.58        |389095005 |Contraception care (regime/therapy)|\n",
      "+------------------------------------+-------------------+-------------------+------------------------------------+------------------------------------+------------------------------------+------------------------------------+--------------+---------+----------------------------------------------------------------+-------------------+----------------+--------------+----------+-----------------------------------+\n",
      "\n",
      "Record count : 31\n"
     ]
    }
   ],
   "source": [
    "print(\"================\")\n",
    "print(\"encounters.csv\")\n",
    "print(\"================\")\n",
    "\n",
    "SOURCE_DATASET_FILENAME = \"encounters.csv\"\n",
    "df = (spark.read.csv(f\"{SOURCE_DATASET_LOCATION}/{SOURCE_DATASET_FILENAME}\", header=True, inferSchema=True))\n",
    "a = df.filter(f'upper(PATIENT) = \"{PATIENTID}\"').orderBy('Id')\n",
    "\n",
    "a.show(a.count(), truncate=False)\n",
    "print(f\"Record count : {a.count()}\")"
   ]
  },
  {
   "cell_type": "code",
   "execution_count": 7,
   "metadata": {},
   "outputs": [
    {
     "name": "stdout",
     "output_type": "stream",
     "text": [
      "B41D26FD-733E-7773-0115-A9E5C0451FBC\n",
      "+------------------------------------+-------------------+-------------------+------------------------------------+------------------------------------+------------------------------------+------------------------------------+--------------+---------+------------------------------------------+-------------------+----------------+--------------+----------+-----------------+\n",
      "|Id                                  |START              |STOP               |PATIENT                             |ORGANIZATION                        |PROVIDER                            |PAYER                               |ENCOUNTERCLASS|CODE     |DESCRIPTION                               |BASE_ENCOUNTER_COST|TOTAL_CLAIM_COST|PAYER_COVERAGE|REASONCODE|REASONDESCRIPTION|\n",
      "+------------------------------------+-------------------+-------------------+------------------------------------+------------------------------------+------------------------------------+------------------------------------+--------------+---------+------------------------------------------+-------------------+----------------+--------------+----------+-----------------+\n",
      "|b41d26fd-733e-7773-0115-a9e5c0451fbc|2019-03-19 15:42:22|2019-03-19 16:12:31|751e1f62-93c3-8048-7f77-48415a978963|f2068cee-c75c-321d-9b2c-c33535db89c9|56da1c7e-8611-3744-9fb6-4e9f43aee2f6|d18ef2e6-ef40-324c-be54-34a5ee865625|wellness      |162673000|General examination of patient (procedure)|136.8              |923.8           |923.8         |NULL      |NULL             |\n",
      "+------------------------------------+-------------------+-------------------+------------------------------------+------------------------------------+------------------------------------+------------------------------------+--------------+---------+------------------------------------------+-------------------+----------------+--------------+----------+-----------------+\n",
      "\n",
      "Record count : 1\n"
     ]
    },
    {
     "data": {
      "text/plain": [
       "{'ENCOUNTER': ['b41d26fd-733e-7773-0115-a9e5c0451fbc'],\n",
       " 'ORGANIZATION': ['f2068cee-c75c-321d-9b2c-c33535db89c9'],\n",
       " 'PROVIDER': ['56da1c7e-8611-3744-9fb6-4e9f43aee2f6'],\n",
       " 'PAYER': ['d18ef2e6-ef40-324c-be54-34a5ee865625']}"
      ]
     },
     "execution_count": 7,
     "metadata": {},
     "output_type": "execute_result"
    }
   ],
   "source": [
    "# Select the Encounter ID\n",
    "ENCOUNTERID = 'B41D26FD-733E-7773-0115-A9E5C0451FBC'\n",
    "ENCOUNTERID = ENCOUNTERID.upper()\n",
    "print(ENCOUNTERID)\n",
    "\n",
    "a = df.filter(f'upper(Id) = \"{ENCOUNTERID}\"')\n",
    "\n",
    "a.show(a.count(), truncate=False)\n",
    "print(f\"Record count : {a.count()}\")\n",
    "\n",
    "a = a = df.filter(f'upper(Id) = \"{ENCOUNTERID}\"').orderBy('Id').selectExpr('Id as ENCOUNTER','ORGANIZATION', 'PROVIDER', 'PAYER')\n",
    "b = a.toPandas().to_dict(orient='list')\n",
    "b"
   ]
  },
  {
   "cell_type": "code",
   "execution_count": 8,
   "metadata": {},
   "outputs": [
    {
     "name": "stdout",
     "output_type": "stream",
     "text": [
      "================\n",
      "organizations.csv\n",
      "================\n",
      "+------------------------------------+------------------------------+------------+--------+-----+--------+-----------+-----------+----------+-------+-----------+\n",
      "|Id                                  |NAME                          |ADDRESS     |CITY    |STATE|ZIP     |LAT        |LON        |PHONE     |REVENUE|UTILIZATION|\n",
      "+------------------------------------+------------------------------+------------+--------+-----+--------+-----------+-----------+----------+-------+-----------+\n",
      "|f2068cee-c75c-321d-9b2c-c33535db89c9|CARING HEALTHCARE SERVICES LLC|32 BOSSI AVE|RANDOLPH|MA   |23682002|42.20017865|-71.0582074|6172300787|0.0    |100        |\n",
      "+------------------------------------+------------------------------+------------+--------+-----+--------+-----------+-----------+----------+-------+-----------+\n",
      "\n",
      "Record count : 1\n"
     ]
    }
   ],
   "source": [
    "print(\"================\")\n",
    "print(\"organizations.csv\")\n",
    "print(\"================\")\n",
    "\n",
    "from pyspark.sql.functions import col\n",
    "c = b['ORGANIZATION']\n",
    "SOURCE_DATASET_FILENAME = \"organizations.csv\"\n",
    "df = (spark.read.csv(f\"{SOURCE_DATASET_LOCATION}/{SOURCE_DATASET_FILENAME}\", header=True, inferSchema=True))\n",
    "a = df.filter(col(\"Id\").isin(c))\n",
    "\n",
    "a.show(a.count(), truncate=False)\n",
    "print(f\"Record count : {a.count()}\")"
   ]
  },
  {
   "cell_type": "code",
   "execution_count": 9,
   "metadata": {},
   "outputs": [
    {
     "name": "stdout",
     "output_type": "stream",
     "text": [
      "================\n",
      "providers.csv\n",
      "================\n",
      "+------------------------------------+------------------------------------+----------------+------+----------------+------------+--------+-----+--------+-----------+-----------+----------+----------+\n",
      "|Id                                  |ORGANIZATION                        |NAME            |GENDER|SPECIALITY      |ADDRESS     |CITY    |STATE|ZIP     |LAT        |LON        |ENCOUNTERS|PROCEDURES|\n",
      "+------------------------------------+------------------------------------+----------------+------+----------------+------------+--------+-----+--------+-----------+-----------+----------+----------+\n",
      "|56da1c7e-8611-3744-9fb6-4e9f43aee2f6|f2068cee-c75c-321d-9b2c-c33535db89c9|Octavio Prosacco|M     |GENERAL PRACTICE|32 BOSSI AVE|RANDOLPH|MA   |23682002|42.20017865|-71.0582074|100       |0         |\n",
      "+------------------------------------+------------------------------------+----------------+------+----------------+------------+--------+-----+--------+-----------+-----------+----------+----------+\n",
      "\n",
      "Record count : 1\n"
     ]
    }
   ],
   "source": [
    "print(\"================\")\n",
    "print(\"providers.csv\")\n",
    "print(\"================\")\n",
    "\n",
    "from pyspark.sql.functions import col\n",
    "c = b['PROVIDER']\n",
    "SOURCE_DATASET_FILENAME = \"providers.csv\"\n",
    "df = (spark.read.csv(f\"{SOURCE_DATASET_LOCATION}/{SOURCE_DATASET_FILENAME}\", header=True, inferSchema=True))\n",
    "a = df.filter(col(\"Id\").isin(c))\n",
    "\n",
    "a.show(a.count(), truncate=False)\n",
    "print(f\"Record count : {a.count()}\")"
   ]
  },
  {
   "cell_type": "code",
   "execution_count": 10,
   "metadata": {},
   "outputs": [
    {
     "name": "stdout",
     "output_type": "stream",
     "text": [
      "================\n",
      "payers.csv\n",
      "================\n",
      "+------------------------------------+-------------+----------+-------+----+-------------------+----+-----+--------------+----------------+-------+------------------+--------------------+-------------------+---------------------+------------------+--------------------+---------------------+-----------------------+----------------+------------------+-------------+\n",
      "|Id                                  |NAME         |OWNERSHIP |ADDRESS|CITY|STATE_HEADQUARTERED|ZIP |PHONE|AMOUNT_COVERED|AMOUNT_UNCOVERED|REVENUE|COVERED_ENCOUNTERS|UNCOVERED_ENCOUNTERS|COVERED_MEDICATIONS|UNCOVERED_MEDICATIONS|COVERED_PROCEDURES|UNCOVERED_PROCEDURES|COVERED_IMMUNIZATIONS|UNCOVERED_IMMUNIZATIONS|UNIQUE_CUSTOMERS|QOLS_AVG          |MEMBER_MONTHS|\n",
      "+------------------------------------+-------------+----------+-------+----+-------------------+----+-----+--------------+----------------+-------+------------------+--------------------+-------------------+---------------------+------------------+--------------------+---------------------+-----------------------+----------------+------------------+-------------+\n",
      "|d18ef2e6-ef40-324c-be54-34a5ee865625|Dual Eligible|GOVERNMENT|NULL   |NULL|NULL               |NULL|NULL |63510.39      |1204.65         |1040.0 |22                |0                   |28                 |0                    |22                |0                   |13                   |0                      |1               |0.8529088329295375|108          |\n",
      "+------------------------------------+-------------+----------+-------+----+-------------------+----+-----+--------------+----------------+-------+------------------+--------------------+-------------------+---------------------+------------------+--------------------+---------------------+-----------------------+----------------+------------------+-------------+\n",
      "\n",
      "Record count : 1\n"
     ]
    }
   ],
   "source": [
    "print(\"================\")\n",
    "print(\"payers.csv\")\n",
    "print(\"================\")\n",
    "\n",
    "from pyspark.sql.functions import col\n",
    "c = b['PAYER']\n",
    "SOURCE_DATASET_FILENAME = \"payers.csv\"\n",
    "df = (spark.read.csv(f\"{SOURCE_DATASET_LOCATION}/{SOURCE_DATASET_FILENAME}\", header=True, inferSchema=True))\n",
    "a = df.filter(col(\"Id\").isin(c))\n",
    "a.show(a.count(), truncate=False)\n",
    "print(f\"Record count : {a.count()}\")"
   ]
  },
  {
   "cell_type": "code",
   "execution_count": 11,
   "metadata": {},
   "outputs": [
    {
     "name": "stdout",
     "output_type": "stream",
     "text": [
      "================\n",
      "claims.csv\n",
      "================\n",
      "+------------------------------------+------------------------------------+------------------------------------+------------------------------------+---------------------------+------------+-------------------+----------+----------+----------+----------+----------+----------+----------+----------+-------------------+------------------------------------+-------------------+-------------------+------------------------------------+-------+-------+-------+------------+------------+------------+-------------------+-------------------+-------------------+----------------------+----------------------+\n",
      "|Id                                  |PATIENTID                           |PROVIDERID                          |PRIMARYPATIENTINSURANCEID           |SECONDARYPATIENTINSURANCEID|DEPARTMENTID|PATIENTDEPARTMENTID|DIAGNOSIS1|DIAGNOSIS2|DIAGNOSIS3|DIAGNOSIS4|DIAGNOSIS5|DIAGNOSIS6|DIAGNOSIS7|DIAGNOSIS8|REFERRINGPROVIDERID|APPOINTMENTID                       |CURRENTILLNESSDATE |SERVICEDATE        |SUPERVISINGPROVIDERID               |STATUS1|STATUS2|STATUSP|OUTSTANDING1|OUTSTANDING2|OUTSTANDINGP|LASTBILLEDDATE1    |LASTBILLEDDATE2    |LASTBILLEDDATEP    |HEALTHCARECLAIMTYPEID1|HEALTHCARECLAIMTYPEID2|\n",
      "+------------------------------------+------------------------------------+------------------------------------+------------------------------------+---------------------------+------------+-------------------+----------+----------+----------+----------+----------+----------+----------+----------+-------------------+------------------------------------+-------------------+-------------------+------------------------------------+-------+-------+-------+------------+------------+------------+-------------------+-------------------+-------------------+----------------------+----------------------+\n",
      "|076a15e9-1da5-ada1-699d-aef0b51e534b|751e1f62-93c3-8048-7f77-48415a978963|56da1c7e-8611-3744-9fb6-4e9f43aee2f6|d18ef2e6-ef40-324c-be54-34a5ee865625|NULL                       |20          |20                 |59621000  |314529007 |15777000  |271737000 |NULL      |NULL      |NULL      |NULL      |NULL               |b41d26fd-733e-7773-0115-a9e5c0451fbc|2019-03-19 15:42:22|2019-03-19 15:42:22|56da1c7e-8611-3744-9fb6-4e9f43aee2f6|CLOSED |CLOSED |CLOSED |0.0         |0.0         |0.0         |2019-03-19 16:12:31|2019-03-19 16:12:31|2019-03-19 16:12:31|1                     |1                     |\n",
      "|1d4df054-8f6b-9852-6663-20e43bff605a|751e1f62-93c3-8048-7f77-48415a978963|56da1c7e-8611-3744-9fb6-4e9f43aee2f6|d18ef2e6-ef40-324c-be54-34a5ee865625|NULL                       |20          |20                 |59621000  |314529007 |15777000  |271737000 |NULL      |NULL      |NULL      |NULL      |NULL               |b41d26fd-733e-7773-0115-a9e5c0451fbc|2019-03-19 15:42:22|2019-03-19 15:42:22|56da1c7e-8611-3744-9fb6-4e9f43aee2f6|CLOSED |CLOSED |CLOSED |0.0         |0.0         |0.0         |2019-03-19 16:12:31|2019-03-19 16:12:31|2019-03-19 16:12:31|1                     |1                     |\n",
      "|d7136e18-bcff-4119-f64a-3b4569f92d8f|751e1f62-93c3-8048-7f77-48415a978963|56da1c7e-8611-3744-9fb6-4e9f43aee2f6|d18ef2e6-ef40-324c-be54-34a5ee865625|NULL                       |20          |20                 |59621000  |314529007 |15777000  |271737000 |NULL      |NULL      |NULL      |NULL      |NULL               |b41d26fd-733e-7773-0115-a9e5c0451fbc|2019-03-19 15:42:22|2019-03-19 15:42:22|56da1c7e-8611-3744-9fb6-4e9f43aee2f6|CLOSED |CLOSED |CLOSED |0.0         |0.0         |0.0         |2019-03-19 16:12:31|2019-03-19 16:12:31|2019-03-19 16:12:31|1                     |1                     |\n",
      "|f9e6c571-f9dd-091d-98bf-0abefb9614ff|751e1f62-93c3-8048-7f77-48415a978963|56da1c7e-8611-3744-9fb6-4e9f43aee2f6|d18ef2e6-ef40-324c-be54-34a5ee865625|NULL                       |20          |20                 |59621000  |314529007 |15777000  |271737000 |NULL      |NULL      |NULL      |NULL      |NULL               |b41d26fd-733e-7773-0115-a9e5c0451fbc|2019-03-19 15:42:22|2019-03-19 15:42:22|56da1c7e-8611-3744-9fb6-4e9f43aee2f6|CLOSED |CLOSED |CLOSED |0.0         |0.0         |0.0         |2019-03-19 16:12:31|2019-03-19 16:12:31|2019-03-19 16:12:31|1                     |1                     |\n",
      "+------------------------------------+------------------------------------+------------------------------------+------------------------------------+---------------------------+------------+-------------------+----------+----------+----------+----------+----------+----------+----------+----------+-------------------+------------------------------------+-------------------+-------------------+------------------------------------+-------+-------+-------+------------+------------+------------+-------------------+-------------------+-------------------+----------------------+----------------------+\n",
      "\n",
      "Record count : 4\n"
     ]
    }
   ],
   "source": [
    "print(\"================\")\n",
    "print(\"claims.csv\")\n",
    "print(\"================\")\n",
    "\n",
    "SOURCE_DATASET_FILENAME = \"claims.csv\"\n",
    "df = (spark.read.csv(f\"{SOURCE_DATASET_LOCATION}/{SOURCE_DATASET_FILENAME}\", header=True, inferSchema=True))\n",
    "a = df.filter(f'upper(APPOINTMENTID) = \"{ENCOUNTERID}\"').orderBy('Id')\n",
    "\n",
    "a.show(a.count(), truncate=False)\n",
    "print(f\"Record count : {a.count()}\")"
   ]
  },
  {
   "cell_type": "code",
   "execution_count": 13,
   "metadata": {},
   "outputs": [
    {
     "name": "stdout",
     "output_type": "stream",
     "text": [
      "076A15E9-1DA5-ADA1-699D-AEF0B51E534B\n"
     ]
    },
    {
     "data": {
      "text/plain": [
       "{'ENCOUNTER': ['b41d26fd-733e-7773-0115-a9e5c0451fbc'],\n",
       " 'ORGANIZATION': ['f2068cee-c75c-321d-9b2c-c33535db89c9'],\n",
       " 'PROVIDER': ['56da1c7e-8611-3744-9fb6-4e9f43aee2f6'],\n",
       " 'PAYER': ['d18ef2e6-ef40-324c-be54-34a5ee865625'],\n",
       " 'CLAIM': ['076a15e9-1da5-ada1-699d-aef0b51e534b']}"
      ]
     },
     "execution_count": 13,
     "metadata": {},
     "output_type": "execute_result"
    }
   ],
   "source": [
    "# Select the Encounter ID\n",
    "CLAIMID = '076a15e9-1da5-ada1-699d-aef0b51e534b'\n",
    "CLAIMID = CLAIMID.upper()\n",
    "print(CLAIMID)\n",
    "\n",
    "x = df.filter(f'upper(Id) = \"{CLAIMID}\"').orderBy('Id').selectExpr('Id as CLAIM')\n",
    "y = x.toPandas().to_dict(orient='list')\n",
    "b.update(y)\n",
    "b"
   ]
  },
  {
   "cell_type": "code",
   "execution_count": 14,
   "metadata": {},
   "outputs": [
    {
     "name": "stdout",
     "output_type": "stream",
     "text": [
      "================\n",
      "claims_transactions.csv\n",
      "================\n"
     ]
    },
    {
     "name": "stderr",
     "output_type": "stream",
     "text": [
      "                                                                                \r"
     ]
    },
    {
     "name": "stdout",
     "output_type": "stream",
     "text": [
      "+------------------------------------+------------------------------------+--------+------------------------------------+-------+------+------+-------------------+-------------------+------------------------------------+---------------+---------+---------+-------------+-------------+-------------+-------------+-----+------------+------------------------------------------------------------------------------------+----------+-------------+------------+--------+-----------+---------+-----------+------------------------------------+--------+------------------------------------+-------------+------------------------------------+------------------------------------+\n",
      "|ID                                  |CLAIMID                             |CHARGEID|PATIENTID                           |TYPE   |AMOUNT|METHOD|FROMDATE           |TODATE             |PLACEOFSERVICE                      |PROCEDURECODE  |MODIFIER1|MODIFIER2|DIAGNOSISREF1|DIAGNOSISREF2|DIAGNOSISREF3|DIAGNOSISREF4|UNITS|DEPARTMENTID|NOTES                                                                               |UNITAMOUNT|TRANSFEROUTID|TRANSFERTYPE|PAYMENTS|ADJUSTMENTS|TRANSFERS|OUTSTANDING|APPOINTMENTID                       |LINENOTE|PATIENTINSURANCEID                  |FEESCHEDULEID|PROVIDERID                          |SUPERVISINGPROVIDERID               |\n",
      "+------------------------------------+------------------------------------+--------+------------------------------------+-------+------+------+-------------------+-------------------+------------------------------------+---------------+---------+---------+-------------+-------------+-------------+-------------+-----+------------+------------------------------------------------------------------------------------+----------+-------------+------------+--------+-----------+---------+-----------+------------------------------------+--------+------------------------------------+-------------+------------------------------------+------------------------------------+\n",
      "|64144591-798b-8f8f-979f-64fbacbbd8d9|076a15e9-1da5-ada1-699d-aef0b51e534b|4333    |751e1f62-93c3-8048-7f77-48415a978963|CHARGE |136.8 |NULL  |2019-03-19 15:42:22|2019-03-19 16:12:31|f2068cee-c75c-321d-9b2c-c33535db89c9|162673000      |NULL     |NULL     |1            |2            |3            |4            |1    |20          |General examination of patient (procedure)                                          |136.8     |NULL         |1           |0.0     |0.0        |NULL     |0.0        |b41d26fd-733e-7773-0115-a9e5c0451fbc|NULL    |751e1f62-93c3-8048-7f77-48415a978963|1            |56da1c7e-8611-3744-9fb6-4e9f43aee2f6|56da1c7e-8611-3744-9fb6-4e9f43aee2f6|\n",
      "|38288b22-f317-1f1f-5f3e-c9f75977b1b3|076a15e9-1da5-ada1-699d-aef0b51e534b|4334    |751e1f62-93c3-8048-7f77-48415a978963|PAYMENT|NULL  |ECHECK|2019-03-19 15:42:22|2019-03-19 16:12:31|f2068cee-c75c-321d-9b2c-c33535db89c9|162673000      |NULL     |NULL     |1            |2            |3            |4            |1    |20          |General examination of patient (procedure)                                          |0.0       |NULL         |NULL        |136.8   |0.0        |NULL     |0.0        |b41d26fd-733e-7773-0115-a9e5c0451fbc|NULL    |751e1f62-93c3-8048-7f77-48415a978963|1            |56da1c7e-8611-3744-9fb6-4e9f43aee2f6|56da1c7e-8611-3744-9fb6-4e9f43aee2f6|\n",
      "|66a22c8b-cc5c-7c7e-02fb-27dd65dec6cf|076a15e9-1da5-ada1-699d-aef0b51e534b|4336    |751e1f62-93c3-8048-7f77-48415a978963|CHARGE |136.0 |NULL  |2019-03-19 15:42:22|1969-12-31 19:00:00|f2068cee-c75c-321d-9b2c-c33535db89c9|140            |NULL     |NULL     |1            |2            |3            |4            |1    |20          |Influenza  seasonal  injectable  preservative free                                  |136.0     |NULL         |1           |0.0     |0.0        |NULL     |0.0        |b41d26fd-733e-7773-0115-a9e5c0451fbc|NULL    |751e1f62-93c3-8048-7f77-48415a978963|1            |56da1c7e-8611-3744-9fb6-4e9f43aee2f6|56da1c7e-8611-3744-9fb6-4e9f43aee2f6|\n",
      "|cd445917-98b8-f8ff-05f6-4fbacbbd8da1|076a15e9-1da5-ada1-699d-aef0b51e534b|4337    |751e1f62-93c3-8048-7f77-48415a978963|PAYMENT|NULL  |ECHECK|2019-03-19 15:42:22|1969-12-31 19:00:00|f2068cee-c75c-321d-9b2c-c33535db89c9|140            |NULL     |NULL     |1            |2            |3            |4            |1    |20          |Influenza  seasonal  injectable  preservative free                                  |0.0       |NULL         |NULL        |136.0   |0.0        |NULL     |0.0        |b41d26fd-733e-7773-0115-a9e5c0451fbc|NULL    |751e1f62-93c3-8048-7f77-48415a978963|1            |56da1c7e-8611-3744-9fb6-4e9f43aee2f6|56da1c7e-8611-3744-9fb6-4e9f43aee2f6|\n",
      "|3511645e-62e3-e409-17d9-3eeb2ef63696|076a15e9-1da5-ada1-699d-aef0b51e534b|4339    |751e1f62-93c3-8048-7f77-48415a978963|CHARGE |431.4 |NULL  |2019-03-19 15:42:22|2019-03-19 16:12:31|f2068cee-c75c-321d-9b2c-c33535db89c9|710824005      |NULL     |NULL     |1            |2            |3            |4            |1    |20          |Assessment of health and social care needs (procedure)                              |431.4     |NULL         |1           |0.0     |0.0        |NULL     |0.0        |b41d26fd-733e-7773-0115-a9e5c0451fbc|NULL    |751e1f62-93c3-8048-7f77-48415a978963|1            |56da1c7e-8611-3744-9fb6-4e9f43aee2f6|56da1c7e-8611-3744-9fb6-4e9f43aee2f6|\n",
      "|1798b8f9-2ffd-4459-bacb-bd8dd135f64f|076a15e9-1da5-ada1-699d-aef0b51e534b|4340    |751e1f62-93c3-8048-7f77-48415a978963|PAYMENT|NULL  |ECHECK|2019-03-19 15:42:22|2019-03-19 16:12:31|f2068cee-c75c-321d-9b2c-c33535db89c9|710824005      |NULL     |NULL     |1            |2            |3            |4            |1    |20          |Assessment of health and social care needs (procedure)                              |0.0       |NULL         |NULL        |431.4   |0.0        |NULL     |0.0        |b41d26fd-733e-7773-0115-a9e5c0451fbc|NULL    |751e1f62-93c3-8048-7f77-48415a978963|1            |56da1c7e-8611-3744-9fb6-4e9f43aee2f6|56da1c7e-8611-3744-9fb6-4e9f43aee2f6|\n",
      "|5e62e3e4-c9f5-1164-eb2e-f63756d7d93e|076a15e9-1da5-ada1-699d-aef0b51e534b|4342    |751e1f62-93c3-8048-7f77-48415a978963|CHARGE |0.0   |NULL  |2019-03-19 16:12:31|2019-03-19 16:42:30|f2068cee-c75c-321d-9b2c-c33535db89c9|710841007      |NULL     |NULL     |1            |2            |3            |4            |1    |20          |Assessment of anxiety (procedure)                                                   |0.0       |NULL         |1           |0.0     |0.0        |NULL     |0.0        |b41d26fd-733e-7773-0115-a9e5c0451fbc|NULL    |751e1f62-93c3-8048-7f77-48415a978963|1            |56da1c7e-8611-3744-9fb6-4e9f43aee2f6|56da1c7e-8611-3744-9fb6-4e9f43aee2f6|\n",
      "|798b8f93-63d4-4591-acbb-d8dd975f64fb|076a15e9-1da5-ada1-699d-aef0b51e534b|4344    |751e1f62-93c3-8048-7f77-48415a978963|CHARGE |0.0   |NULL  |2019-03-19 16:42:30|2019-03-19 16:55:55|f2068cee-c75c-321d-9b2c-c33535db89c9|171207006      |NULL     |NULL     |1            |2            |3            |4            |1    |20          |Depression screening (procedure)                                                    |0.0       |NULL         |1           |0.0     |0.0        |NULL     |0.0        |b41d26fd-733e-7773-0115-a9e5c0451fbc|NULL    |751e1f62-93c3-8048-7f77-48415a978963|1            |56da1c7e-8611-3744-9fb6-4e9f43aee2f6|56da1c7e-8611-3744-9fb6-4e9f43aee2f6|\n",
      "|e62e3e4e-af51-1645-b2ef-63777d7d93ee|076a15e9-1da5-ada1-699d-aef0b51e534b|4346    |751e1f62-93c3-8048-7f77-48415a978963|CHARGE |0.0   |NULL  |2019-03-19 16:55:55|2019-03-19 17:16:25|f2068cee-c75c-321d-9b2c-c33535db89c9|454711000124102|NULL     |NULL     |1            |2            |3            |4            |1    |20          |Depression screening using Patient Health Questionnaire Two-Item score (procedure)  |0.0       |NULL         |1           |0.0     |0.0        |NULL     |0.0        |b41d26fd-733e-7773-0115-a9e5c0451fbc|NULL    |751e1f62-93c3-8048-7f77-48415a978963|1            |56da1c7e-8611-3744-9fb6-4e9f43aee2f6|56da1c7e-8611-3744-9fb6-4e9f43aee2f6|\n",
      "|98b8f93f-d544-5917-cbbd-8de10df64fba|076a15e9-1da5-ada1-699d-aef0b51e534b|4348    |751e1f62-93c3-8048-7f77-48415a978963|CHARGE |0.0   |NULL  |2019-03-19 17:16:25|2019-03-19 17:26:46|f2068cee-c75c-321d-9b2c-c33535db89c9|428211000124100|NULL     |NULL     |1            |2            |3            |4            |1    |20          |Assessment of substance use (procedure)                                             |0.0       |NULL         |1           |0.0     |0.0        |NULL     |0.0        |b41d26fd-733e-7773-0115-a9e5c0451fbc|NULL    |751e1f62-93c3-8048-7f77-48415a978963|1            |56da1c7e-8611-3744-9fb6-4e9f43aee2f6|56da1c7e-8611-3744-9fb6-4e9f43aee2f6|\n",
      "|b682a22c-8bcc-5c7c-071e-fb27dd65dec7|076a15e9-1da5-ada1-699d-aef0b51e534b|4350    |751e1f62-93c3-8048-7f77-48415a978963|CHARGE |0.0   |NULL  |2019-03-19 17:26:46|2019-03-19 17:55:30|f2068cee-c75c-321d-9b2c-c33535db89c9|763302001      |NULL     |NULL     |1            |2            |3            |4            |1    |20          |Assessment using Alcohol Use Disorders Identification Test - Consumption (procedure)|0.0       |NULL         |1           |0.0     |0.0        |NULL     |0.0        |b41d26fd-733e-7773-0115-a9e5c0451fbc|NULL    |751e1f62-93c3-8048-7f77-48415a978963|1            |56da1c7e-8611-3744-9fb6-4e9f43aee2f6|56da1c7e-8611-3744-9fb6-4e9f43aee2f6|\n",
      "+------------------------------------+------------------------------------+--------+------------------------------------+-------+------+------+-------------------+-------------------+------------------------------------+---------------+---------+---------+-------------+-------------+-------------+-------------+-----+------------+------------------------------------------------------------------------------------+----------+-------------+------------+--------+-----------+---------+-----------+------------------------------------+--------+------------------------------------+-------------+------------------------------------+------------------------------------+\n",
      "\n",
      "Record count : 11\n"
     ]
    },
    {
     "data": {
      "text/plain": [
       "{'ENCOUNTER': ['b41d26fd-733e-7773-0115-a9e5c0451fbc'],\n",
       " 'ORGANIZATION': ['f2068cee-c75c-321d-9b2c-c33535db89c9'],\n",
       " 'PROVIDER': ['56da1c7e-8611-3744-9fb6-4e9f43aee2f6'],\n",
       " 'PAYER': ['d18ef2e6-ef40-324c-be54-34a5ee865625'],\n",
       " 'CLAIM': ['076a15e9-1da5-ada1-699d-aef0b51e534b'],\n",
       " 'CLAIM_TRANSACTION': ['64144591-798b-8f8f-979f-64fbacbbd8d9',\n",
       "  '38288b22-f317-1f1f-5f3e-c9f75977b1b3',\n",
       "  '66a22c8b-cc5c-7c7e-02fb-27dd65dec6cf',\n",
       "  'cd445917-98b8-f8ff-05f6-4fbacbbd8da1',\n",
       "  '3511645e-62e3-e409-17d9-3eeb2ef63696',\n",
       "  '1798b8f9-2ffd-4459-bacb-bd8dd135f64f',\n",
       "  '5e62e3e4-c9f5-1164-eb2e-f63756d7d93e',\n",
       "  '798b8f93-63d4-4591-acbb-d8dd975f64fb',\n",
       "  'e62e3e4e-af51-1645-b2ef-63777d7d93ee',\n",
       "  '98b8f93f-d544-5917-cbbd-8de10df64fba',\n",
       "  'b682a22c-8bcc-5c7c-071e-fb27dd65dec7']}"
      ]
     },
     "execution_count": 14,
     "metadata": {},
     "output_type": "execute_result"
    }
   ],
   "source": [
    "print(\"================\")\n",
    "print(\"claims_transactions.csv\")\n",
    "print(\"================\")\n",
    "\n",
    "CLAIMID = b['CLAIM'][0]\n",
    "SOURCE_DATASET_FILENAME = \"claims_transactions.csv\"\n",
    "df = (spark.read.csv(f\"{SOURCE_DATASET_LOCATION}/{SOURCE_DATASET_FILENAME}\", header=True, inferSchema=True))\n",
    "a = df.filter(f'upper(CLAIMID) = upper(\"{CLAIMID}\")').orderBy('CLAIMID', 'CHARGEID')\n",
    "\n",
    "a.show(a.count(), truncate=False)\n",
    "print(f\"Record count : {a.count()}\")\n",
    "\n",
    "x = df.filter(f'upper(CLAIMID) = upper(\"{CLAIMID}\")').orderBy('CLAIMID', 'CHARGEID').selectExpr('ID as CLAIM_TRANSACTION')\n",
    "y = x.toPandas().to_dict(orient='list')\n",
    "b.update(y)\n",
    "b\n"
   ]
  },
  {
   "cell_type": "code",
   "execution_count": 15,
   "metadata": {},
   "outputs": [
    {
     "name": "stdout",
     "output_type": "stream",
     "text": [
      "================\n",
      "allergies.csv\n",
      "================\n",
      "+-----+----+-------+---------+----+------+-----------+----+--------+---------+------------+---------+---------+------------+---------+\n",
      "|START|STOP|PATIENT|ENCOUNTER|CODE|SYSTEM|DESCRIPTION|TYPE|CATEGORY|REACTION1|DESCRIPTION1|SEVERITY1|REACTION2|DESCRIPTION2|SEVERITY2|\n",
      "+-----+----+-------+---------+----+------+-----------+----+--------+---------+------------+---------+---------+------------+---------+\n",
      "+-----+----+-------+---------+----+------+-----------+----+--------+---------+------------+---------+---------+------------+---------+\n",
      "\n",
      "Record count : 0\n"
     ]
    }
   ],
   "source": [
    "print(\"================\")\n",
    "print(\"allergies.csv\")\n",
    "print(\"================\")\n",
    "SOURCE_DATASET_FILENAME = \"allergies.csv\"\n",
    "df = (spark.read.csv(f\"{SOURCE_DATASET_LOCATION}/{SOURCE_DATASET_FILENAME}\", header=True, inferSchema=True))\n",
    "c = b['ENCOUNTER']\n",
    "a = df.filter(col(\"ENCOUNTER\").isin(c))\n",
    "a.show(a.count(), truncate=False)\n",
    "print(f\"Record count : {a.count()}\")"
   ]
  },
  {
   "cell_type": "code",
   "execution_count": 16,
   "metadata": {},
   "outputs": [
    {
     "name": "stdout",
     "output_type": "stream",
     "text": [
      "================\n",
      "careplans.csv\n",
      "================\n",
      "+------------------------------------+----------+----+------------------------------------+------------------------------------+---------+------------------------------------------+----------+---------------------------------+\n",
      "|Id                                  |START     |STOP|PATIENT                             |ENCOUNTER                           |CODE     |DESCRIPTION                               |REASONCODE|REASONDESCRIPTION                |\n",
      "+------------------------------------+----------+----+------------------------------------+------------------------------------+---------+------------------------------------------+----------+---------------------------------+\n",
      "|3ebc9735-d1f3-d374-863d-f64eb709f04f|2019-03-19|NULL|751e1f62-93c3-8048-7f77-48415a978963|b41d26fd-733e-7773-0115-a9e5c0451fbc|443402002|Lifestyle education regarding hypertension|59621000  |Essential hypertension (disorder)|\n",
      "|4c67fae7-ed21-7335-7353-ea6260b2e6a8|2019-03-19|NULL|751e1f62-93c3-8048-7f77-48415a978963|b41d26fd-733e-7773-0115-a9e5c0451fbc|698360004|Diabetes self management plan             |15777000  |Prediabetes                      |\n",
      "+------------------------------------+----------+----+------------------------------------+------------------------------------+---------+------------------------------------------+----------+---------------------------------+\n",
      "\n",
      "Record count : 2\n"
     ]
    }
   ],
   "source": [
    "print(\"================\")\n",
    "print(\"careplans.csv\")\n",
    "print(\"================\")\n",
    "SOURCE_DATASET_FILENAME = \"careplans.csv\"\n",
    "df = (spark.read.csv(f\"{SOURCE_DATASET_LOCATION}/{SOURCE_DATASET_FILENAME}\", header=True, inferSchema=True))\n",
    "c = b['ENCOUNTER']\n",
    "a = df.filter(col(\"ENCOUNTER\").isin(c))\n",
    "a.show(a.count(), truncate=False)\n",
    "print(f\"Record count : {a.count()}\")"
   ]
  },
  {
   "cell_type": "code",
   "execution_count": 17,
   "metadata": {},
   "outputs": [
    {
     "name": "stdout",
     "output_type": "stream",
     "text": [
      "================\n",
      "conditions.csv\n",
      "================\n",
      "+----------+----------+------------------------------------+------------------------------------+---------+---------------------------------+\n",
      "|START     |STOP      |PATIENT                             |ENCOUNTER                           |CODE     |DESCRIPTION                      |\n",
      "+----------+----------+------------------------------------+------------------------------------+---------+---------------------------------+\n",
      "|2019-03-19|NULL      |751e1f62-93c3-8048-7f77-48415a978963|b41d26fd-733e-7773-0115-a9e5c0451fbc|59621000 |Essential hypertension (disorder)|\n",
      "|2019-03-19|2020-03-24|751e1f62-93c3-8048-7f77-48415a978963|b41d26fd-733e-7773-0115-a9e5c0451fbc|314529007|Medication review due (situation)|\n",
      "|2019-03-19|NULL      |751e1f62-93c3-8048-7f77-48415a978963|b41d26fd-733e-7773-0115-a9e5c0451fbc|15777000 |Prediabetes                      |\n",
      "|2019-03-19|NULL      |751e1f62-93c3-8048-7f77-48415a978963|b41d26fd-733e-7773-0115-a9e5c0451fbc|271737000|Anemia (disorder)                |\n",
      "+----------+----------+------------------------------------+------------------------------------+---------+---------------------------------+\n",
      "\n",
      "Record count : 4\n"
     ]
    }
   ],
   "source": [
    "print(\"================\")\n",
    "print(\"conditions.csv\")\n",
    "print(\"================\")\n",
    "SOURCE_DATASET_FILENAME = \"conditions.csv\"\n",
    "df = (spark.read.csv(f\"{SOURCE_DATASET_LOCATION}/{SOURCE_DATASET_FILENAME}\", header=True, inferSchema=True))\n",
    "c = b['ENCOUNTER']\n",
    "a = df.filter(col(\"ENCOUNTER\").isin(c))\n",
    "a.show(a.count(), truncate=False)\n",
    "print(f\"Record count : {a.count()}\")"
   ]
  },
  {
   "cell_type": "code",
   "execution_count": 18,
   "metadata": {},
   "outputs": [
    {
     "name": "stdout",
     "output_type": "stream",
     "text": [
      "================\n",
      "devices.csv\n",
      "================\n",
      "+-------------------+----+------------------------------------+------------------------------------+---------+-------------------------------------+------------------------------------------------------------------------+\n",
      "|START              |STOP|PATIENT                             |ENCOUNTER                           |CODE     |DESCRIPTION                          |UDI                                                                     |\n",
      "+-------------------+----+------------------------------------+------------------------------------+---------+-------------------------------------+------------------------------------------------------------------------+\n",
      "|2019-03-19 15:42:22|NULL|751e1f62-93c3-8048-7f77-48415a978963|b41d26fd-733e-7773-0115-a9e5c0451fbc|337414009|Blood glucose meter (physical object)|(01)66338823500868(11)190226(17)440312(10)57489205003913368(21)827494046|\n",
      "+-------------------+----+------------------------------------+------------------------------------+---------+-------------------------------------+------------------------------------------------------------------------+\n",
      "\n",
      "Record count : 1\n"
     ]
    }
   ],
   "source": [
    "print(\"================\")\n",
    "print(\"devices.csv\")\n",
    "print(\"================\")\n",
    "\n",
    "SOURCE_DATASET_FILENAME = \"devices.csv\"\n",
    "df = (spark.read.csv(f\"{SOURCE_DATASET_LOCATION}/{SOURCE_DATASET_FILENAME}\", header=True, inferSchema=True))\n",
    "c = b['ENCOUNTER']\n",
    "a = df.filter(col(\"ENCOUNTER\").isin(c))\n",
    "a.show(a.count(), truncate=False)\n",
    "print(f\"Record count : {a.count()}\")"
   ]
  },
  {
   "cell_type": "code",
   "execution_count": 19,
   "metadata": {},
   "outputs": [
    {
     "name": "stdout",
     "output_type": "stream",
     "text": [
      "================\n",
      "imaging_studies.csv\n",
      "================\n",
      "+---+----+-------+---------+----------+-------------+--------------------+-------------+--------------------+------------+--------+---------------+--------------+\n",
      "|Id |DATE|PATIENT|ENCOUNTER|SERIES_UID|BODYSITE_CODE|BODYSITE_DESCRIPTION|MODALITY_CODE|MODALITY_DESCRIPTION|INSTANCE_UID|SOP_CODE|SOP_DESCRIPTION|PROCEDURE_CODE|\n",
      "+---+----+-------+---------+----------+-------------+--------------------+-------------+--------------------+------------+--------+---------------+--------------+\n",
      "+---+----+-------+---------+----------+-------------+--------------------+-------------+--------------------+------------+--------+---------------+--------------+\n",
      "\n",
      "Record count : 0\n"
     ]
    }
   ],
   "source": [
    "print(\"================\")\n",
    "print(\"imaging_studies.csv\")\n",
    "print(\"================\")\n",
    "\n",
    "SOURCE_DATASET_FILENAME = \"imaging_studies.csv\"\n",
    "df = (spark.read.csv(f\"{SOURCE_DATASET_LOCATION}/{SOURCE_DATASET_FILENAME}\", header=True, inferSchema=True))\n",
    "c = b['ENCOUNTER']\n",
    "a = df.filter(col(\"ENCOUNTER\").isin(c))\n",
    "a.show(a.count(), truncate=False)\n",
    "print(f\"Record count : {a.count()}\")"
   ]
  },
  {
   "cell_type": "code",
   "execution_count": 20,
   "metadata": {},
   "outputs": [
    {
     "name": "stdout",
     "output_type": "stream",
     "text": [
      "================\n",
      "immunizations.csv\n",
      "================\n",
      "+-------------------+------------------------------------+------------------------------------+----+--------------------------------------------------+---------+\n",
      "|DATE               |PATIENT                             |ENCOUNTER                           |CODE|DESCRIPTION                                       |BASE_COST|\n",
      "+-------------------+------------------------------------+------------------------------------+----+--------------------------------------------------+---------+\n",
      "|2019-03-19 15:42:22|751e1f62-93c3-8048-7f77-48415a978963|b41d26fd-733e-7773-0115-a9e5c0451fbc|140 |Influenza  seasonal  injectable  preservative free|136.0    |\n",
      "+-------------------+------------------------------------+------------------------------------+----+--------------------------------------------------+---------+\n",
      "\n",
      "Record count : 1\n"
     ]
    }
   ],
   "source": [
    "print(\"================\")\n",
    "print(\"immunizations.csv\")\n",
    "print(\"================\")\n",
    "\n",
    "SOURCE_DATASET_FILENAME = \"immunizations.csv\"\n",
    "df = (spark.read.csv(f\"{SOURCE_DATASET_LOCATION}/{SOURCE_DATASET_FILENAME}\", header=True, inferSchema=True))\n",
    "c = b['ENCOUNTER']\n",
    "a = df.filter(col(\"ENCOUNTER\").isin(c))\n",
    "a.show(a.count(), truncate=False)\n",
    "print(f\"Record count : {a.count()}\")"
   ]
  },
  {
   "cell_type": "code",
   "execution_count": 21,
   "metadata": {},
   "outputs": [
    {
     "name": "stdout",
     "output_type": "stream",
     "text": [
      "================\n",
      "medications.csv\n",
      "================\n",
      "+-------------------+-------------------+------------------------------------+------------------------------------+------------------------------------+-------+---------------------------------------------------------------------------+---------+--------------+---------+---------+----------+---------------------------------+\n",
      "|START              |STOP               |PATIENT                             |PAYER                               |ENCOUNTER                           |CODE   |DESCRIPTION                                                                |BASE_COST|PAYER_COVERAGE|DISPENSES|TOTALCOST|REASONCODE|REASONDESCRIPTION                |\n",
      "+-------------------+-------------------+------------------------------------+------------------------------------+------------------------------------+-------+---------------------------------------------------------------------------+---------+--------------+---------+---------+----------+---------------------------------+\n",
      "|2019-03-19 15:42:22|2020-03-24 15:42:22|751e1f62-93c3-8048-7f77-48415a978963|d18ef2e6-ef40-324c-be54-34a5ee865625|b41d26fd-733e-7773-0115-a9e5c0451fbc|1049625|Acetaminophen 325 MG / Oxycodone Hydrochloride 10 MG Oral Tablet [Percocet]|129.94   |94.94         |3        |389.82   |NULL      |NULL                             |\n",
      "|2019-03-19 15:42:22|2020-03-24 15:42:22|751e1f62-93c3-8048-7f77-48415a978963|d18ef2e6-ef40-324c-be54-34a5ee865625|b41d26fd-733e-7773-0115-a9e5c0451fbc|856987 |Acetaminophen 300 MG / Hydrocodone Bitartrate 5 MG Oral Tablet             |41.78    |6.78          |3        |125.34   |NULL      |NULL                             |\n",
      "|2019-03-19 15:42:22|2020-03-24 15:42:22|751e1f62-93c3-8048-7f77-48415a978963|d18ef2e6-ef40-324c-be54-34a5ee865625|b41d26fd-733e-7773-0115-a9e5c0451fbc|308136 |amLODIPine 2.5 MG Oral Tablet                                              |0.94     |0.0           |4        |3.76     |59621000  |Essential hypertension (disorder)|\n",
      "+-------------------+-------------------+------------------------------------+------------------------------------+------------------------------------+-------+---------------------------------------------------------------------------+---------+--------------+---------+---------+----------+---------------------------------+\n",
      "\n",
      "Record count : 3\n"
     ]
    }
   ],
   "source": [
    "print(\"================\")\n",
    "print(\"medications.csv\")\n",
    "print(\"================\")\n",
    "SOURCE_DATASET_FILENAME = \"medications.csv\"\n",
    "df = (spark.read.csv(f\"{SOURCE_DATASET_LOCATION}/{SOURCE_DATASET_FILENAME}\", header=True, inferSchema=True))\n",
    "c = b['ENCOUNTER']\n",
    "a = df.filter(col(\"ENCOUNTER\").isin(c))\n",
    "a.show(a.count(), truncate=False)\n",
    "print(f\"Record count : {a.count()}\")"
   ]
  },
  {
   "cell_type": "code",
   "execution_count": 22,
   "metadata": {},
   "outputs": [
    {
     "name": "stdout",
     "output_type": "stream",
     "text": [
      "================\n",
      "observations.csv\n",
      "================\n",
      "+-------------------+------------------------------------+------------------------------------+--------------+-------+------------------------------------------------------------------------------------------------------------------------------------------------------------------------------------------+----------------------------------------------------------------------------+-------+-------+\n",
      "|DATE               |PATIENT                             |ENCOUNTER                           |CATEGORY      |CODE   |DESCRIPTION                                                                                                                                                                               |VALUE                                                                       |UNITS  |TYPE   |\n",
      "+-------------------+------------------------------------+------------------------------------+--------------+-------+------------------------------------------------------------------------------------------------------------------------------------------------------------------------------------------+----------------------------------------------------------------------------+-------+-------+\n",
      "|2019-03-19 15:42:22|751e1f62-93c3-8048-7f77-48415a978963|b41d26fd-733e-7773-0115-a9e5c0451fbc|laboratory    |4548-4 |Hemoglobin A1c/Hemoglobin.total in Blood                                                                                                                                                  |6.2                                                                         |%      |numeric|\n",
      "|2019-03-19 15:42:22|751e1f62-93c3-8048-7f77-48415a978963|b41d26fd-733e-7773-0115-a9e5c0451fbc|vital-signs   |8302-2 |Body Height                                                                                                                                                                               |157.4                                                                       |cm     |numeric|\n",
      "|2019-03-19 15:42:22|751e1f62-93c3-8048-7f77-48415a978963|b41d26fd-733e-7773-0115-a9e5c0451fbc|vital-signs   |72514-3|Pain severity - 0-10 verbal numeric rating [Score] - Reported                                                                                                                             |0.0                                                                         |{score}|numeric|\n",
      "|2019-03-19 15:42:22|751e1f62-93c3-8048-7f77-48415a978963|b41d26fd-733e-7773-0115-a9e5c0451fbc|vital-signs   |29463-7|Body Weight                                                                                                                                                                               |69.7                                                                        |kg     |numeric|\n",
      "|2019-03-19 15:42:22|751e1f62-93c3-8048-7f77-48415a978963|b41d26fd-733e-7773-0115-a9e5c0451fbc|vital-signs   |39156-5|Body mass index (BMI) [Ratio]                                                                                                                                                             |28.1                                                                        |kg/m2  |numeric|\n",
      "|2019-03-19 15:42:22|751e1f62-93c3-8048-7f77-48415a978963|b41d26fd-733e-7773-0115-a9e5c0451fbc|vital-signs   |8462-4 |Diastolic Blood Pressure                                                                                                                                                                  |97.0                                                                        |mm[Hg] |numeric|\n",
      "|2019-03-19 15:42:22|751e1f62-93c3-8048-7f77-48415a978963|b41d26fd-733e-7773-0115-a9e5c0451fbc|vital-signs   |8480-6 |Systolic Blood Pressure                                                                                                                                                                   |148.0                                                                       |mm[Hg] |numeric|\n",
      "|2019-03-19 15:42:22|751e1f62-93c3-8048-7f77-48415a978963|b41d26fd-733e-7773-0115-a9e5c0451fbc|vital-signs   |8867-4 |Heart rate                                                                                                                                                                                |94.0                                                                        |/min   |numeric|\n",
      "|2019-03-19 15:42:22|751e1f62-93c3-8048-7f77-48415a978963|b41d26fd-733e-7773-0115-a9e5c0451fbc|vital-signs   |9279-1 |Respiratory rate                                                                                                                                                                          |12.0                                                                        |/min   |numeric|\n",
      "|2019-03-19 15:42:22|751e1f62-93c3-8048-7f77-48415a978963|b41d26fd-733e-7773-0115-a9e5c0451fbc|laboratory    |2339-0 |Glucose [Mass/volume] in Blood                                                                                                                                                            |90.2                                                                        |mg/dL  |numeric|\n",
      "|2019-03-19 15:42:22|751e1f62-93c3-8048-7f77-48415a978963|b41d26fd-733e-7773-0115-a9e5c0451fbc|laboratory    |6299-2 |Urea nitrogen [Mass/volume] in Blood                                                                                                                                                      |8.2                                                                         |mg/dL  |numeric|\n",
      "|2019-03-19 15:42:22|751e1f62-93c3-8048-7f77-48415a978963|b41d26fd-733e-7773-0115-a9e5c0451fbc|laboratory    |38483-4|Creatinine [Mass/volume] in Blood                                                                                                                                                         |0.9                                                                         |mg/dL  |numeric|\n",
      "|2019-03-19 15:42:22|751e1f62-93c3-8048-7f77-48415a978963|b41d26fd-733e-7773-0115-a9e5c0451fbc|laboratory    |49765-1|Calcium [Mass/volume] in Blood                                                                                                                                                            |8.6                                                                         |mg/dL  |numeric|\n",
      "|2019-03-19 15:42:22|751e1f62-93c3-8048-7f77-48415a978963|b41d26fd-733e-7773-0115-a9e5c0451fbc|laboratory    |2947-0 |Sodium [Moles/volume] in Blood                                                                                                                                                            |139.2                                                                       |mmol/L |numeric|\n",
      "|2019-03-19 15:42:22|751e1f62-93c3-8048-7f77-48415a978963|b41d26fd-733e-7773-0115-a9e5c0451fbc|laboratory    |6298-4 |Potassium [Moles/volume] in Blood                                                                                                                                                         |4.4                                                                         |mmol/L |numeric|\n",
      "|2019-03-19 15:42:22|751e1f62-93c3-8048-7f77-48415a978963|b41d26fd-733e-7773-0115-a9e5c0451fbc|laboratory    |2069-3 |Chloride [Moles/volume] in Blood                                                                                                                                                          |104.7                                                                       |mmol/L |numeric|\n",
      "|2019-03-19 15:42:22|751e1f62-93c3-8048-7f77-48415a978963|b41d26fd-733e-7773-0115-a9e5c0451fbc|laboratory    |20565-8|Carbon dioxide  total [Moles/volume] in Blood                                                                                                                                             |25.0                                                                        |mmol/L |numeric|\n",
      "|2019-03-19 15:42:22|751e1f62-93c3-8048-7f77-48415a978963|b41d26fd-733e-7773-0115-a9e5c0451fbc|laboratory    |2093-3 |Cholesterol [Mass/volume] in Serum or Plasma                                                                                                                                              |88.7                                                                        |mg/dL  |numeric|\n",
      "|2019-03-19 15:42:22|751e1f62-93c3-8048-7f77-48415a978963|b41d26fd-733e-7773-0115-a9e5c0451fbc|laboratory    |2571-8 |Triglycerides                                                                                                                                                                             |136.7                                                                       |mg/dL  |numeric|\n",
      "|2019-03-19 15:42:22|751e1f62-93c3-8048-7f77-48415a978963|b41d26fd-733e-7773-0115-a9e5c0451fbc|laboratory    |18262-6|Low Density Lipoprotein Cholesterol                                                                                                                                                       |3.8                                                                         |mg/dL  |numeric|\n",
      "|2019-03-19 15:42:22|751e1f62-93c3-8048-7f77-48415a978963|b41d26fd-733e-7773-0115-a9e5c0451fbc|laboratory    |2085-9 |Cholesterol in HDL [Mass/volume] in Serum or Plasma                                                                                                                                       |57.6                                                                        |mg/dL  |numeric|\n",
      "|2019-03-19 15:42:22|751e1f62-93c3-8048-7f77-48415a978963|b41d26fd-733e-7773-0115-a9e5c0451fbc|social-history|72166-2|Tobacco smoking status                                                                                                                                                                    |Ex-smoker (finding)                                                         |NULL   |text   |\n",
      "|2019-03-19 16:12:31|751e1f62-93c3-8048-7f77-48415a978963|b41d26fd-733e-7773-0115-a9e5c0451fbc|survey        |76501-6|Within the last year  have you been afraid of your partner or ex-partner?                                                                                                                 |No                                                                          |NULL   |text   |\n",
      "|2019-03-19 16:12:31|751e1f62-93c3-8048-7f77-48415a978963|b41d26fd-733e-7773-0115-a9e5c0451fbc|survey        |93026-3|Do you feel physically and emotionally safe where you currently live?                                                                                                                     |Yes                                                                         |NULL   |text   |\n",
      "|2019-03-19 16:12:31|751e1f62-93c3-8048-7f77-48415a978963|b41d26fd-733e-7773-0115-a9e5c0451fbc|survey        |93027-1|Are you a refugee?                                                                                                                                                                        |No                                                                          |NULL   |text   |\n",
      "|2019-03-19 16:12:31|751e1f62-93c3-8048-7f77-48415a978963|b41d26fd-733e-7773-0115-a9e5c0451fbc|survey        |93028-9|In the past year  have you spent more than 2 nights in a row in a jail  prison  detention center  or juvenile correctional facility?                                                      |No                                                                          |NULL   |text   |\n",
      "|2019-03-19 16:12:31|751e1f62-93c3-8048-7f77-48415a978963|b41d26fd-733e-7773-0115-a9e5c0451fbc|survey        |93038-8|Stress level                                                                                                                                                                              |A little bit                                                                |NULL   |text   |\n",
      "|2019-03-19 16:12:31|751e1f62-93c3-8048-7f77-48415a978963|b41d26fd-733e-7773-0115-a9e5c0451fbc|survey        |93029-7|How often do you see or talk to people that you care about and feel close to (For example: talking to friends on the phone  visiting friends or family  going to church or club meetings)?|5 or more times a week                                                      |NULL   |text   |\n",
      "|2019-03-19 16:12:31|751e1f62-93c3-8048-7f77-48415a978963|b41d26fd-733e-7773-0115-a9e5c0451fbc|survey        |93030-5|Has lack of transportation kept you from medical appointments  meetings  work  or from getting things needed for daily living                                                             |Yes  it has kept me from medical appointments or from getting my medications|NULL   |text   |\n",
      "|2019-03-19 16:12:31|751e1f62-93c3-8048-7f77-48415a978963|b41d26fd-733e-7773-0115-a9e5c0451fbc|survey        |93031-3|In the past year  have you or any family members you live with been unable to get any of the following when it was really needed?                                                         |Child care                                                                  |NULL   |text   |\n",
      "|2019-03-19 16:12:31|751e1f62-93c3-8048-7f77-48415a978963|b41d26fd-733e-7773-0115-a9e5c0451fbc|survey        |63586-2|What was your best estimate of the total income of all family members from all sources  before taxes  in last year?                                                                       |3731                                                                        |/a     |text   |\n",
      "|2019-03-19 16:12:31|751e1f62-93c3-8048-7f77-48415a978963|b41d26fd-733e-7773-0115-a9e5c0451fbc|survey        |76437-3|Primary insurance                                                                                                                                                                         |I choose not to answer this question                                        |NULL   |text   |\n",
      "|2019-03-19 16:12:31|751e1f62-93c3-8048-7f77-48415a978963|b41d26fd-733e-7773-0115-a9e5c0451fbc|survey        |67875-5|Employment status - current                                                                                                                                                               |Full-time work                                                              |NULL   |text   |\n",
      "|2019-03-19 16:12:31|751e1f62-93c3-8048-7f77-48415a978963|b41d26fd-733e-7773-0115-a9e5c0451fbc|survey        |82589-3|Highest level of education                                                                                                                                                                |More than high school                                                       |NULL   |text   |\n",
      "|2019-03-19 16:12:31|751e1f62-93c3-8048-7f77-48415a978963|b41d26fd-733e-7773-0115-a9e5c0451fbc|survey        |56799-0|Address                                                                                                                                                                                   |717 Rutherford Mill Suite 25                                                |NULL   |text   |\n",
      "|2019-03-19 16:12:31|751e1f62-93c3-8048-7f77-48415a978963|b41d26fd-733e-7773-0115-a9e5c0451fbc|survey        |93033-9|Are you worried about losing your housing?                                                                                                                                                |No                                                                          |NULL   |text   |\n",
      "|2019-03-19 16:12:31|751e1f62-93c3-8048-7f77-48415a978963|b41d26fd-733e-7773-0115-a9e5c0451fbc|survey        |71802-3|Housing status                                                                                                                                                                            |I have housing                                                              |NULL   |text   |\n",
      "|2019-03-19 16:12:31|751e1f62-93c3-8048-7f77-48415a978963|b41d26fd-733e-7773-0115-a9e5c0451fbc|survey        |63512-8|How many people are living or staying at this address?                                                                                                                                    |6.0                                                                         |{#}    |numeric|\n",
      "|2019-03-19 16:12:31|751e1f62-93c3-8048-7f77-48415a978963|b41d26fd-733e-7773-0115-a9e5c0451fbc|survey        |54899-0|Preferred language                                                                                                                                                                        |English                                                                     |NULL   |text   |\n",
      "|2019-03-19 16:12:31|751e1f62-93c3-8048-7f77-48415a978963|b41d26fd-733e-7773-0115-a9e5c0451fbc|survey        |93034-7|Have you been discharged from the armed forces of the United States?                                                                                                                      |No                                                                          |NULL   |text   |\n",
      "|2019-03-19 16:12:31|751e1f62-93c3-8048-7f77-48415a978963|b41d26fd-733e-7773-0115-a9e5c0451fbc|survey        |93035-4|At any point in the past 2 years  has season or migrant farm work been your or your family's main source of income?                                                                       |No                                                                          |NULL   |text   |\n",
      "|2019-03-19 16:12:31|751e1f62-93c3-8048-7f77-48415a978963|b41d26fd-733e-7773-0115-a9e5c0451fbc|survey        |32624-9|Race                                                                                                                                                                                      |Other                                                                       |NULL   |text   |\n",
      "|2019-03-19 16:12:31|751e1f62-93c3-8048-7f77-48415a978963|b41d26fd-733e-7773-0115-a9e5c0451fbc|survey        |56051-6|Do you consider yourself Hispanic/Latino?                                                                                                                                                 |No                                                                          |NULL   |text   |\n",
      "|2019-03-19 16:42:30|751e1f62-93c3-8048-7f77-48415a978963|b41d26fd-733e-7773-0115-a9e5c0451fbc|survey        |70274-6|Generalized anxiety disorder 7 item (GAD-7) total score [Reported.PHQ]                                                                                                                    |4.0                                                                         |{score}|numeric|\n",
      "|2019-03-19 17:16:25|751e1f62-93c3-8048-7f77-48415a978963|b41d26fd-733e-7773-0115-a9e5c0451fbc|survey        |55758-7|Patient Health Questionnaire 2 item (PHQ-2) total score [Reported]                                                                                                                        |2.0                                                                         |{score}|numeric|\n",
      "|2019-03-19 17:55:30|751e1f62-93c3-8048-7f77-48415a978963|b41d26fd-733e-7773-0115-a9e5c0451fbc|survey        |75626-2|Total score [AUDIT-C]                                                                                                                                                                     |1.0                                                                         |{score}|numeric|\n",
      "+-------------------+------------------------------------+------------------------------------+--------------+-------+------------------------------------------------------------------------------------------------------------------------------------------------------------------------------------------+----------------------------------------------------------------------------+-------+-------+\n",
      "\n",
      "Record count : 46\n"
     ]
    }
   ],
   "source": [
    "print(\"================\")\n",
    "print(\"observations.csv\")\n",
    "print(\"================\")\n",
    "SOURCE_DATASET_FILENAME = \"observations.csv\"\n",
    "df = (spark.read.csv(f\"{SOURCE_DATASET_LOCATION}/{SOURCE_DATASET_FILENAME}\", header=True, inferSchema=True))\n",
    "c = b['ENCOUNTER']\n",
    "a = df.filter(col(\"ENCOUNTER\").isin(c))\n",
    "a.show(a.count(), truncate=False)\n",
    "print(f\"Record count : {a.count()}\")"
   ]
  },
  {
   "cell_type": "code",
   "execution_count": 23,
   "metadata": {},
   "outputs": [
    {
     "name": "stdout",
     "output_type": "stream",
     "text": [
      "================\n",
      "procedures.csv\n",
      "================\n",
      "+-------------------+-------------------+------------------------------------+------------------------------------+---------------+------------------------------------------------------------------------------------+---------+----------+-----------------+\n",
      "|START              |STOP               |PATIENT                             |ENCOUNTER                           |CODE           |DESCRIPTION                                                                         |BASE_COST|REASONCODE|REASONDESCRIPTION|\n",
      "+-------------------+-------------------+------------------------------------+------------------------------------+---------------+------------------------------------------------------------------------------------+---------+----------+-----------------+\n",
      "|2019-03-19 15:42:22|2019-03-19 16:12:31|751e1f62-93c3-8048-7f77-48415a978963|b41d26fd-733e-7773-0115-a9e5c0451fbc|710824005      |Assessment of health and social care needs (procedure)                              |431.4    |NULL      |NULL             |\n",
      "|2019-03-19 16:12:31|2019-03-19 16:42:30|751e1f62-93c3-8048-7f77-48415a978963|b41d26fd-733e-7773-0115-a9e5c0451fbc|710841007      |Assessment of anxiety (procedure)                                                   |431.4    |NULL      |NULL             |\n",
      "|2019-03-19 16:42:30|2019-03-19 16:55:55|751e1f62-93c3-8048-7f77-48415a978963|b41d26fd-733e-7773-0115-a9e5c0451fbc|171207006      |Depression screening (procedure)                                                    |431.4    |NULL      |NULL             |\n",
      "|2019-03-19 16:55:55|2019-03-19 17:16:25|751e1f62-93c3-8048-7f77-48415a978963|b41d26fd-733e-7773-0115-a9e5c0451fbc|454711000124102|Depression screening using Patient Health Questionnaire Two-Item score (procedure)  |431.4    |NULL      |NULL             |\n",
      "|2019-03-19 17:16:25|2019-03-19 17:26:46|751e1f62-93c3-8048-7f77-48415a978963|b41d26fd-733e-7773-0115-a9e5c0451fbc|428211000124100|Assessment of substance use (procedure)                                             |431.4    |NULL      |NULL             |\n",
      "|2019-03-19 17:26:46|2019-03-19 17:55:30|751e1f62-93c3-8048-7f77-48415a978963|b41d26fd-733e-7773-0115-a9e5c0451fbc|763302001      |Assessment using Alcohol Use Disorders Identification Test - Consumption (procedure)|431.4    |NULL      |NULL             |\n",
      "+-------------------+-------------------+------------------------------------+------------------------------------+---------------+------------------------------------------------------------------------------------+---------+----------+-----------------+\n",
      "\n",
      "Record count : 6\n"
     ]
    }
   ],
   "source": [
    "print(\"================\")\n",
    "print(\"procedures.csv\")\n",
    "print(\"================\")\n",
    "SOURCE_DATASET_FILENAME = \"procedures.csv\"\n",
    "df = (spark.read.csv(f\"{SOURCE_DATASET_LOCATION}/{SOURCE_DATASET_FILENAME}\", header=True, inferSchema=True))\n",
    "c = b['ENCOUNTER']\n",
    "a = df.filter(col(\"ENCOUNTER\").isin(c))\n",
    "a.show(a.count(), truncate=False)\n",
    "print(f\"Record count : {a.count()}\")"
   ]
  },
  {
   "cell_type": "code",
   "execution_count": 24,
   "metadata": {},
   "outputs": [
    {
     "name": "stdout",
     "output_type": "stream",
     "text": [
      "================\n",
      "supplies.csv\n",
      "================\n",
      "+----------+------------------------------------+------------------------------------+----------+----------------------------------------------+--------+\n",
      "|DATE      |PATIENT                             |ENCOUNTER                           |CODE      |DESCRIPTION                                   |QUANTITY|\n",
      "+----------+------------------------------------+------------------------------------+----------+----------------------------------------------+--------+\n",
      "|2019-03-19|751e1f62-93c3-8048-7f77-48415a978963|b41d26fd-733e-7773-0115-a9e5c0451fbc|337388004 |Blood glucose testing strips (physical object)|50      |\n",
      "|2019-03-19|751e1f62-93c3-8048-7f77-48415a978963|b41d26fd-733e-7773-0115-a9e5c0451fbc|1137596000|Blood lancet (physical object)                |100     |\n",
      "+----------+------------------------------------+------------------------------------+----------+----------------------------------------------+--------+\n",
      "\n",
      "Record count : 2\n"
     ]
    }
   ],
   "source": [
    "print(\"================\")\n",
    "print(\"supplies.csv\")\n",
    "print(\"================\")\n",
    "SOURCE_DATASET_FILENAME = \"supplies.csv\"\n",
    "df = (spark.read.csv(f\"{SOURCE_DATASET_LOCATION}/{SOURCE_DATASET_FILENAME}\", header=True, inferSchema=True))\n",
    "c = b['ENCOUNTER']\n",
    "a = df.filter(col(\"ENCOUNTER\").isin(c))\n",
    "a.show(a.count(), truncate=False)\n",
    "print(f\"Record count : {a.count()}\")"
   ]
  },
  {
   "cell_type": "code",
   "execution_count": 35,
   "metadata": {},
   "outputs": [
    {
     "name": "stdout",
     "output_type": "stream",
     "text": [
      "================\n",
      "payer_transitions.csv\n",
      "================\n",
      "+------------------------------------+--------+-------------------+-------------------+------------------------------------+---------------+--------------+----------+\n",
      "|PATIENT                             |MEMBERID|START_DATE         |END_DATE           |PAYER                               |SECONDARY_PAYER|PLAN_OWNERSHIP|OWNER_NAME|\n",
      "+------------------------------------+--------+-------------------+-------------------+------------------------------------+---------------+--------------+----------+\n",
      "|495425e0-b16b-0baa-f926-0dfbe9870673|NULL    |2013-10-30 16:26:49|2014-10-29 16:26:49|e03e23c9-4df1-3eb6-a62d-f70f02301496|NULL           |NULL          |NULL      |\n",
      "|495425e0-b16b-0baa-f926-0dfbe9870673|NULL    |2014-10-29 16:26:49|2015-10-28 16:26:49|e03e23c9-4df1-3eb6-a62d-f70f02301496|NULL           |NULL          |NULL      |\n",
      "|495425e0-b16b-0baa-f926-0dfbe9870673|NULL    |2015-10-28 16:26:49|2016-11-02 16:26:49|e03e23c9-4df1-3eb6-a62d-f70f02301496|NULL           |NULL          |NULL      |\n",
      "|495425e0-b16b-0baa-f926-0dfbe9870673|NULL    |2016-11-02 16:26:49|2017-11-01 16:26:49|e03e23c9-4df1-3eb6-a62d-f70f02301496|NULL           |NULL          |NULL      |\n",
      "|495425e0-b16b-0baa-f926-0dfbe9870673|NULL    |2017-11-01 16:26:49|2018-10-31 16:26:49|e03e23c9-4df1-3eb6-a62d-f70f02301496|NULL           |NULL          |NULL      |\n",
      "|495425e0-b16b-0baa-f926-0dfbe9870673|NULL    |2018-10-31 16:26:49|2019-10-30 16:26:49|e03e23c9-4df1-3eb6-a62d-f70f02301496|NULL           |NULL          |NULL      |\n",
      "|495425e0-b16b-0baa-f926-0dfbe9870673|NULL    |2019-10-30 16:26:49|2020-10-28 16:26:49|e03e23c9-4df1-3eb6-a62d-f70f02301496|NULL           |NULL          |NULL      |\n",
      "|495425e0-b16b-0baa-f926-0dfbe9870673|NULL    |2020-10-28 16:26:49|2021-11-03 16:26:49|e03e23c9-4df1-3eb6-a62d-f70f02301496|NULL           |NULL          |NULL      |\n",
      "|495425e0-b16b-0baa-f926-0dfbe9870673|NULL    |2021-11-03 16:26:49|2022-11-02 16:26:49|e03e23c9-4df1-3eb6-a62d-f70f02301496|NULL           |NULL          |NULL      |\n",
      "|495425e0-b16b-0baa-f926-0dfbe9870673|NULL    |2022-11-02 16:26:49|2023-11-01 16:26:49|e03e23c9-4df1-3eb6-a62d-f70f02301496|NULL           |NULL          |NULL      |\n",
      "|495425e0-b16b-0baa-f926-0dfbe9870673|NULL    |2023-11-01 16:26:49|2024-10-28 15:26:49|e03e23c9-4df1-3eb6-a62d-f70f02301496|NULL           |NULL          |NULL      |\n",
      "+------------------------------------+--------+-------------------+-------------------+------------------------------------+---------------+--------------+----------+\n",
      "\n",
      "Record count : 11\n"
     ]
    }
   ],
   "source": [
    "print(\"================\")\n",
    "print(\"payer_transitions.csv\")\n",
    "print(\"================\")\n",
    "SOURCE_DATASET_FILENAME = \"payer_transitions.csv\"\n",
    "df = (spark.read.csv(f\"{SOURCE_DATASET_LOCATION}/{SOURCE_DATASET_FILENAME}\", header=True, inferSchema=True))\n",
    "c = [PATIENTID.lower()]\n",
    "a = df.filter(col(\"PATIENT\").isin(c))\n",
    "a.show(a.count(), truncate=False)\n",
    "print(f\"Record count : {a.count()}\")"
   ]
  },
  {
   "cell_type": "code",
   "execution_count": 25,
   "metadata": {},
   "outputs": [
    {
     "data": {
      "text/plain": [
       "{'ENCOUNTER': ['b41d26fd-733e-7773-0115-a9e5c0451fbc'],\n",
       " 'ORGANIZATION': ['f2068cee-c75c-321d-9b2c-c33535db89c9'],\n",
       " 'PROVIDER': ['56da1c7e-8611-3744-9fb6-4e9f43aee2f6'],\n",
       " 'PAYER': ['d18ef2e6-ef40-324c-be54-34a5ee865625'],\n",
       " 'CLAIM': ['076a15e9-1da5-ada1-699d-aef0b51e534b'],\n",
       " 'CLAIM_TRANSACTION': ['64144591-798b-8f8f-979f-64fbacbbd8d9',\n",
       "  '38288b22-f317-1f1f-5f3e-c9f75977b1b3',\n",
       "  '66a22c8b-cc5c-7c7e-02fb-27dd65dec6cf',\n",
       "  'cd445917-98b8-f8ff-05f6-4fbacbbd8da1',\n",
       "  '3511645e-62e3-e409-17d9-3eeb2ef63696',\n",
       "  '1798b8f9-2ffd-4459-bacb-bd8dd135f64f',\n",
       "  '5e62e3e4-c9f5-1164-eb2e-f63756d7d93e',\n",
       "  '798b8f93-63d4-4591-acbb-d8dd975f64fb',\n",
       "  'e62e3e4e-af51-1645-b2ef-63777d7d93ee',\n",
       "  '98b8f93f-d544-5917-cbbd-8de10df64fba',\n",
       "  'b682a22c-8bcc-5c7c-071e-fb27dd65dec7']}"
      ]
     },
     "execution_count": 25,
     "metadata": {},
     "output_type": "execute_result"
    }
   ],
   "source": [
    "b"
   ]
  }
 ],
 "metadata": {
  "kernelspec": {
   "display_name": ".venv",
   "language": "python",
   "name": "python3"
  },
  "language_info": {
   "codemirror_mode": {
    "name": "ipython",
    "version": 3
   },
   "file_extension": ".py",
   "mimetype": "text/x-python",
   "name": "python",
   "nbconvert_exporter": "python",
   "pygments_lexer": "ipython3",
   "version": "3.11.8"
  }
 },
 "nbformat": 4,
 "nbformat_minor": 2
}
